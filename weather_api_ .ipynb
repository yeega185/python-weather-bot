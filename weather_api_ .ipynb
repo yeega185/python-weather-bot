{
  "nbformat": 4,
  "nbformat_minor": 0,
  "metadata": {
    "colab": {
      "provenance": []
    },
    "kernelspec": {
      "name": "python3",
      "display_name": "Python 3"
    },
    "language_info": {
      "name": "python"
    }
  },
  "cells": [
    {
      "cell_type": "code",
      "execution_count": 21,
      "metadata": {
        "id": "l63qu4ZHrpOD",
        "colab": {
          "base_uri": "https://localhost:8080/"
        },
        "outputId": "7a0cdcfa-dd40-4547-9bc2-3c3cc75e96a1"
      },
      "outputs": [
        {
          "output_type": "stream",
          "name": "stdout",
          "text": [
            "2025-07-23 14:39\n",
            "https://api.openweathermap.org/data/2.5/weather?q=Taipei,tw&appid=2ee72ba9f03b56b7620f04b835f39854&units=metric&lang=zh_tw\n"
          ]
        }
      ],
      "source": [
        "import requests              # 安裝API套件\n",
        "import csv                # 把資料寫進CSV檔案\n",
        "from datetime import datetime      # 取得今天日期與時間\n",
        "\n",
        "API_KEY = \"2ee72ba9f03b56b7620f04b835f39854\"        # <-- 換成你的 OpenWeatherMap API key\n",
        "CITIES = [\"Taipei,tw\", \"Taoyuan,tw\", \"Hsinchu,tw\", \"Taichung,tw\", \"Tainan,tw\", \"Kaohsiung,tw\"]   # 多個城市查詢 台北、桃園、新竹、台中、台南、高雄\n",
        "\n",
        "\n",
        "url = f\"https://api.openweathermap.org/data/2.5/weather?q={CITY}&appid={API_KEY}&units=metric&lang=zh_tw\"\n",
        "\n",
        "now = datetime.now().strftime('%Y-%m-%d %H:%M')\n",
        "rows = []\n",
        "\n",
        "print(now)\n",
        "print(url)\n",
        "\n",
        "\n"
      ]
    },
    {
      "cell_type": "code",
      "source": [
        "for city in CITIES:\n",
        "    url = f\"https://api.openweathermap.org/data/2.5/weather?q={city}&appid={API_KEY}&units=metric&lang=zh_tw\"\n",
        "    resp = requests.get(url)\n",
        "    data = resp.json()\n",
        "    if resp.status_code == 200:\n",
        "        weather = data['weather'][0]['description']\n",
        "        temp = data['main']['temp']\n",
        "        rain = data.get('rain', {}).get('1h', 0)\n",
        "        rows.append([now, city, weather, temp, rain])\n",
        "        print(f\"{city} 天氣：{weather}，溫度：{temp}°C，降雨量：{rain} mm\")\n",
        "    else:\n",
        "        print(f\"{city} 取得失敗，原因：{data}\")\n",
        "\n"
      ],
      "metadata": {
        "colab": {
          "base_uri": "https://localhost:8080/"
        },
        "id": "4nLtwSQMji4b",
        "outputId": "2880a08b-673a-4069-aac1-65e2fd33a3c0"
      },
      "execution_count": 22,
      "outputs": [
        {
          "output_type": "stream",
          "name": "stdout",
          "text": [
            "Taipei,tw 天氣：陣雨，溫度：28.48°C，降雨量：1.54 mm\n",
            "Taoyuan,tw 天氣：小雨，溫度：28.36°C，降雨量：0.87 mm\n",
            "Hsinchu,tw 天氣：晴，溫度：29.94°C，降雨量：0 mm\n",
            "Taichung,tw 天氣：多雲，溫度：29.5°C，降雨量：0 mm\n",
            "Tainan,tw 天氣：多雲，溫度：26.95°C，降雨量：0 mm\n",
            "Kaohsiung,tw 天氣：多雲，溫度：28.97°C，降雨量：0 mm\n"
          ]
        }
      ]
    },
    {
      "cell_type": "code",
      "source": [
        "with open(\"weather.csv\", \"w\", encoding=\"utf-8\", newline=\"\") as f:\n",
        "    writer = csv.writer(f)\n",
        "    writer.writerow([\"日期\", \"城市\", \"天氣\", \"溫度\", \"降雨量\"])\n",
        "    writer.writerow([now, city, weather, temp, rain])\n",
        "    for row in rows:\n",
        "        writer.writerow(row)\n",
        "\n",
        "print(\"全部城市的天氣已寫入 weather.csv\")"
      ],
      "metadata": {
        "colab": {
          "base_uri": "https://localhost:8080/"
        },
        "id": "dqyF5yfSpcJA",
        "outputId": "d4313362-1271-41b3-cbd2-491d6961c38d"
      },
      "execution_count": 24,
      "outputs": [
        {
          "output_type": "stream",
          "name": "stdout",
          "text": [
            "全部城市的天氣已寫入 weather.csv\n"
          ]
        }
      ]
    }
  ]
}