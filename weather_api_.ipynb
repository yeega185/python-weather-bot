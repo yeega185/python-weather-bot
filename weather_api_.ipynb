{
  "nbformat": 4,
  "nbformat_minor": 0,
  "metadata": {
    "colab": {
      "provenance": []
    },
    "kernelspec": {
      "name": "python3",
      "display_name": "Python 3"
    },
    "language_info": {
      "name": "python"
    }
  },
  "cells": [
    {
      "cell_type": "code",
      "execution_count": 18,
      "metadata": {
        "id": "l63qu4ZHrpOD",
        "colab": {
          "base_uri": "https://localhost:8080/"
        },
        "outputId": "5da44057-eaad-4eb6-f1b1-4129198deb11"
      },
      "outputs": [
        {
          "output_type": "stream",
          "name": "stdout",
          "text": [
            "{'coord': {'lon': 121.5319, 'lat': 25.0478}, 'weather': [{'id': 520, 'main': 'Rain', 'description': '陣雨', 'icon': '09n'}], 'base': 'stations', 'main': {'temp': 28.58, 'feels_like': 30.62, 'temp_min': 27.93, 'temp_max': 29.07, 'pressure': 1001, 'humidity': 62, 'sea_level': 1001, 'grnd_level': 984}, 'visibility': 10000, 'wind': {'speed': 6.17, 'deg': 90}, 'rain': {'1h': 3.07}, 'clouds': {'all': 75}, 'dt': 1753280476, 'sys': {'type': 2, 'id': 266033, 'country': 'TW', 'sunrise': 1753219008, 'sunset': 1753267413}, 'timezone': 28800, 'id': 1668341, 'name': 'Taipei', 'cod': 200}\n",
            "https://api.openweathermap.org/data/2.5/weather?q=Taipei,tw&appid=2ee72ba9f03b56b7620f04b835f39854&units=metric&lang=zh_tw\n"
          ]
        }
      ],
      "source": [
        "import requests              # 安裝API套件\n",
        "import csv                # 把資料寫進CSV檔案\n",
        "from datetime import datetime      # 取得今天日期與時間\n",
        "\n",
        "API_KEY = \"2ee72ba9f03b56b7620f04b835f39854\"        # <-- 換成你的 OpenWeatherMap API key\n",
        "CITY = \"Taipei,tw\"           # 台北，可改成其他城市\n",
        "\n",
        "\n",
        "url = f\"https://api.openweathermap.org/data/2.5/weather?q={CITY}&appid={API_KEY}&units=metric&lang=zh_tw\"\n",
        "\n",
        "resp = requests.get(url)\n",
        "data = resp.json()\n",
        "\n",
        "print(data)\n",
        "print(url)\n",
        "\n",
        "\n"
      ]
    },
    {
      "cell_type": "code",
      "source": [
        "weather = data['weather'][0]['description']\n",
        "temp = data['main']['temp']\n",
        "rain = data.get('rain', {}).get('1h', 0)\n",
        "now = datetime.now().strftime('%Y-%m-%d %H:%M')\n",
        "\n",
        "print(f\"天氣：{weather}，溫度：{temp}°C，降雨量：{rain} mm\")\n",
        "\n"
      ],
      "metadata": {
        "colab": {
          "base_uri": "https://localhost:8080/"
        },
        "id": "4nLtwSQMji4b",
        "outputId": "faef2e56-aead-414a-ed9d-f11aa5c06304"
      },
      "execution_count": 19,
      "outputs": [
        {
          "output_type": "stream",
          "name": "stdout",
          "text": [
            "天氣：陣雨，溫度：28.58°C，降雨量：3.07 mm\n"
          ]
        }
      ]
    },
    {
      "cell_type": "code",
      "source": [
        "with open(\"weather.csv\", \"w\", encoding=\"utf-8\", newline=\"\") as f:\n",
        "    writer = csv.writer(f)\n",
        "    writer.writerow([\"日期\", \"天氣\", \"溫度\", \"降雨量\"])\n",
        "    writer.writerow([now, weather, temp, rain])\n",
        "\n",
        "print(\"已寫入 weather.csv\")"
      ],
      "metadata": {
        "colab": {
          "base_uri": "https://localhost:8080/"
        },
        "id": "dqyF5yfSpcJA",
        "outputId": "7cffcb21-5b55-4e35-b98c-a361f88f6662"
      },
      "execution_count": 20,
      "outputs": [
        {
          "output_type": "stream",
          "name": "stdout",
          "text": [
            "已寫入 weather.csv\n"
          ]
        }
      ]
    }
  ]
}