{
  "nbformat": 4,
  "nbformat_minor": 0,
  "metadata": {
    "colab": {
      "provenance": []
    },
    "kernelspec": {
      "name": "python3",
      "display_name": "Python 3"
    },
    "language_info": {
      "name": "python"
    }
  },
  "cells": [
    {
      "cell_type": "code",
      "execution_count": 10,
      "metadata": {
        "id": "l63qu4ZHrpOD",
        "colab": {
          "base_uri": "https://localhost:8080/"
        },
        "outputId": "f2a0652d-7d0b-423f-d7fe-efe88b459989"
      },
      "outputs": [
        {
          "output_type": "stream",
          "name": "stdout",
          "text": [
            "2025-07-24 13:29\n",
            "https://api.openweathermap.org/data/2.5/weather?q=['Taipei,tw', 'Taoyuan,tw', 'Hsinchu,tw', 'Taichung,tw', 'Tainan,tw', 'Kaohsiung,tw']&appid=2ee72ba9f03b56b7620f04b835f39854&units=metric&lang=zh_tw\n"
          ]
        }
      ],
      "source": [
        "import requests              # 安裝API套件\n",
        "import csv                # 把資料寫進CSV檔案\n",
        "from datetime import datetime      # 取得今天日期與時間\n",
        "\n",
        "API_KEY = \"API位置\"        # <-- 換成你的 OpenWeatherMap API key\n",
        "CITIES = [\"Taipei,tw\", \"Taoyuan,tw\", \"Hsinchu,tw\", \"Taichung,tw\", \"Tainan,tw\", \"Kaohsiung,tw\"]   # 多個城市查詢 台北、桃園、新竹、台中、台南、高雄\n",
        "\n",
        "\n",
        "url = f\"https://api.openweathermap.org/data/2.5/weather?q={CITIES}&appid={API_KEY}&units=metric&lang=zh_tw\"\n",
        "\n",
        "now = datetime.now().strftime('%Y-%m-%d %H:%M')\n",
        "rows = []\n",
        "\n",
        "print(now)\n",
        "print(url)\n",
        "\n",
        "\n"
      ]
    },
    {
      "cell_type": "code",
      "source": [
        "for city in CITIES:\n",
        "    url = f\"https://api.openweathermap.org/data/2.5/weather?q={city}&appid={API_KEY}&units=metric&lang=zh_tw\"\n",
        "    resp = requests.get(url)\n",
        "    data = resp.json()\n",
        "    if resp.status_code == 200:\n",
        "        weather = data['weather'][0]['description']\n",
        "        temp = data['main']['temp']\n",
        "        rain = data.get('rain', {}).get('1h', 0)\n",
        "        rows.append([now, city, weather, temp, rain])\n",
        "        print(f\"{city} 天氣：{weather}，溫度：{temp}°C，降雨量：{rain} mm\")\n",
        "    else:\n",
        "        print(f\"{city} 取得失敗，原因：{data}\")\n",
        "\n"
      ],
      "metadata": {
        "colab": {
          "base_uri": "https://localhost:8080/"
        },
        "id": "4nLtwSQMji4b",
        "outputId": "ee9df823-464a-4578-bde8-feebb93034ce"
      },
      "execution_count": 11,
      "outputs": [
        {
          "output_type": "stream",
          "name": "stdout",
          "text": [
            "Taipei,tw 天氣：多雲，溫度：28.07°C，降雨量：0 mm\n",
            "Taoyuan,tw 天氣：晴，少雲，溫度：27.81°C，降雨量：0 mm\n",
            "Hsinchu,tw 天氣：小雨，溫度：28.48°C，降雨量：0.12 mm\n",
            "Taichung,tw 天氣：晴，溫度：28.72°C，降雨量：0 mm\n",
            "Tainan,tw 天氣：陰，多雲，溫度：29.21°C，降雨量：0 mm\n",
            "Kaohsiung,tw 天氣：多雲，溫度：29.21°C，降雨量：0 mm\n"
          ]
        }
      ]
    },
    {
      "cell_type": "code",
      "source": [
        "with open(\"weather.csv\", \"w\", encoding=\"utf-8\", newline=\"\") as f:\n",
        "    writer = csv.writer(f)\n",
        "    writer.writerow([\"日期\", \"城市\", \"天氣\", \"溫度\", \"降雨量\"])\n",
        "    writer.writerow([now, city, weather, temp, rain])\n",
        "    for row in rows:\n",
        "        writer.writerow(row)\n",
        "\n",
        "print(\"全部城市的天氣已寫入 weather.csv\")"
      ],
      "metadata": {
        "colab": {
          "base_uri": "https://localhost:8080/"
        },
        "id": "dqyF5yfSpcJA",
        "outputId": "c7454255-53fb-473f-fcf4-50f4fe09322f"
      },
      "execution_count": 12,
      "outputs": [
        {
          "output_type": "stream",
          "name": "stdout",
          "text": [
            "全部城市的天氣已寫入 weather.csv\n"
          ]
        }
      ]
    },
    {
      "cell_type": "markdown",
      "source": [
        "查詢現在目錄的檔案"
      ],
      "metadata": {
        "id": "wV8zLmuxn35u"
      }
    },
    {
      "cell_type": "code",
      "source": [
        "!ls /content"
      ],
      "metadata": {
        "colab": {
          "base_uri": "https://localhost:8080/"
        },
        "id": "RLhcsX8mn6tT",
        "outputId": "051f7341-4c60-4a5f-d72c-0febbe39c82b"
      },
      "execution_count": 13,
      "outputs": [
        {
          "output_type": "stream",
          "name": "stdout",
          "text": [
            "sample_data  weather.csv\n"
          ]
        }
      ]
    },
    {
      "cell_type": "markdown",
      "source": [
        "## 將製作完成的weater.csv **檔案自動上傳到onedrive** **粗體文字**"
      ],
      "metadata": {
        "id": "KqeXAczfel1A"
      }
    },
    {
      "cell_type": "markdown",
      "source": [
        "安狀rclone"
      ],
      "metadata": {
        "id": "Hp8oFft1ffhV"
      }
    },
    {
      "cell_type": "code",
      "source": [
        "!curl https://rclone.org/install.sh | sudo bash"
      ],
      "metadata": {
        "colab": {
          "base_uri": "https://localhost:8080/"
        },
        "id": "L2l_yrt7e3MC",
        "outputId": "321083b7-881c-42c2-9b84-98e57220083e"
      },
      "execution_count": 14,
      "outputs": [
        {
          "output_type": "stream",
          "name": "stdout",
          "text": [
            "  % Total    % Received % Xferd  Average Speed   Time    Time     Time  Current\n",
            "                                 Dload  Upload   Total   Spent    Left  Speed\n",
            "100  4734  100  4734    0     0   6015      0 --:--:-- --:--:-- --:--:--  6022\n",
            "\n",
            "The latest version of rclone rclone v1.70.3 is already installed.\n",
            "\n"
          ]
        }
      ]
    },
    {
      "cell_type": "markdown",
      "source": [
        "利用rclone連線至onedrive"
      ],
      "metadata": {
        "id": "KK2ABS3RkTv3"
      }
    },
    {
      "cell_type": "code",
      "source": [
        "import os\n",
        "\n",
        "rclone_config = \"\"\"\n",
        "[onedrive]\n",
        "輸入rclone內容\n",
        "\"\"\"\n",
        "os.makedirs('/root/.config/rclone/', exist_ok=True)\n",
        "with open('/root/.config/rclone/rclone.conf', 'w') as f:\n",
        "  f.write(rclone_config)\n",
        "\n",
        "\n",
        "\n",
        "\n"
      ],
      "metadata": {
        "id": "8Mr3BFmxkS5t"
      },
      "execution_count": 15,
      "outputs": []
    },
    {
      "cell_type": "markdown",
      "source": [
        "查詢Onedrive裡面的資料"
      ],
      "metadata": {
        "id": "PXf_KosKl-xS"
      }
    },
    {
      "cell_type": "code",
      "source": [
        "!rclone ls onedrive:/"
      ],
      "metadata": {
        "colab": {
          "base_uri": "https://localhost:8080/"
        },
        "id": "pVqiXgPmlV2X",
        "outputId": "19a298b9-4fed-42c8-bb32-4bcfad730c65"
      },
      "execution_count": 16,
      "outputs": [
        {
          "output_type": "stream",
          "name": "stdout",
          "text": [
            "   554405 Ellen-thesis-v09-20250315.docx\n",
            "    10120 租房schedule.xlsx\n",
            "    14610 記帳.xlsx\n",
            "    46378 這個不用了.docx\n",
            "    34152 音訊檔案.docx\n",
            "2025/07/24 13:29:51 ERROR : 個人保存庫: error listing: couldn't list files: invalidRequest: invalidResourceId: ObjectHandle is Invalid\n",
            "   497032 文件/Ellen-thesis-v07-20250110-理論.docx\n",
            " 18116302 文件/RPA_Course_Report.docx\n",
            "    18556 文件/出去住.xlsx\n",
            "    87238 文件/小小達人-家長簽到表.xlsx\n",
            "    21684 文件/採買清單.xlsx\n",
            "    10373 文件/活頁簿.xlsx\n",
            "    46900 文件/研究生學位考試視訊申請表.docx\n",
            "    17513 文件/花費紀錄.xlsx\n",
            "    34410 寶鼻的/0326-訪談大綱.docx\n",
            " 45818825 寶鼻的/2025-03-29 momo.MP3\n",
            "    59665 寶鼻的/2025-03-29 momo.docx\n",
            " 31166012 寶鼻的/2025-04-04 RoKuHua.MP3\n",
            "    42782 寶鼻的/2025-04-04 RoKuHua.docx\n",
            "535383979 寶鼻的/2025-04-04_13-49-38.mkv\n",
            " 38843504 寶鼻的/2025-04-07 LoveGo.MP3\n",
            "    52232 寶鼻的/2025-04-07 LoveGo.docx\n",
            " 18241460 寶鼻的/2025-04-08 TIMMY.MP3\n",
            "    32330 寶鼻的/2025-04-08 TIMMY.docx\n",
            " 25119814 寶鼻的/2025-04-17 CK.MP3\n",
            "    45262 寶鼻的/2025-04-17 CK.docx\n",
            " 43772915 寶鼻的/2025-04-17 PuDin.MP3\n",
            "    54347 寶鼻的/2025-04-17 PuDin.docx\n",
            "12182140706 寶鼻的/DJI_20250329125951_0001_D.MP4\n",
            "   695103 寶鼻的/Ellen-thesis-v10-20250324.docx\n",
            "    23629 寶鼻的/訪談大綱.docx\n",
            "    83684 寶鼻的/訪談大綱.pdf\n",
            " 57449138 新資料夾/20240323_212947.mp4\n",
            "  1106280 圖片/20220722_163745.jpg\n",
            "   244054 租補/1746438483694.jpg\n",
            "   123219 租補/存摺封面.jpg\n",
            "   167274 租補/正面.jpg\n",
            "   175644 租補/租金-房屋租賃標的現況確認書_第一頁.jpg\n",
            "   205269 租補/租金-房屋租賃標的現況確認書_第二頁.jpg\n",
            "   213112 租補/租金第一頁.jpg\n",
            "   285691 租補/租金第三頁.jpg\n",
            "   260817 租補/租金第二頁.jpg\n",
            "   215588 租補/租金第四頁.jpg\n",
            "   186445 租補/背面.jpg\n",
            "   211755 Google 人才培育課程/官方提供資源/G-LLM-I-m0-l2-zh_TW-file-2.zh_TW.pdf\n",
            " 45818825 轉譯過的檔案/2025-03-29 momo.MP3\n",
            " 31166012 轉譯過的檔案/2025-04-04 RoKuHua.MP3\n",
            " 14467707 轉譯過的檔案/2025-04-04-01 Rokuhua 1.MP3\n",
            " 14467707 轉譯過的檔案/2025-04-04-01 Rokuhua.MP3\n",
            " 38843504 轉譯過的檔案/2025-04-07 LoveGo 1.MP3\n",
            " 38843504 轉譯過的檔案/2025-04-07 LoveGo.MP3\n",
            " 18241460 轉譯過的檔案/2025-04-08 TIMMY.MP3\n",
            " 25119814 轉譯過的檔案/2025-04-17 CK.MP3\n",
            " 43772915 轉譯過的檔案/2025-04-17 PuDin.MP3\n",
            "      140 應用程式/Power Automate Desktop For Windows/378383fb-d48d-4064-8ad4-ebe8f2121b8f.cnt\n",
            "  4671980 應用程式/Power Automate Desktop For Windows/7f28165a-51c0-4b4c-8488-bc8d0fd3ec49\n",
            "      204 應用程式/Power Automate Desktop For Windows/7f28165a-51c0-4b4c-8488-bc8d0fd3ec49.meta\n",
            "     3052 應用程式/Power Automate Desktop For Windows/7f398cd5-8ec1-4969-bae1-f289f432b026\n",
            "      180 應用程式/Power Automate Desktop For Windows/7f398cd5-8ec1-4969-bae1-f289f432b026.meta\n",
            "  6447344 應用程式/Power Automate Desktop For Windows/828fff4c-b231-4d23-b824-b652d01217cc\n",
            "      176 應用程式/Power Automate Desktop For Windows/828fff4c-b231-4d23-b824-b652d01217cc.meta\n",
            "  3635140 應用程式/Power Automate Desktop For Windows/964e572c-5ffc-4a77-964a-a199aee8d384\n",
            "      192 應用程式/Power Automate Desktop For Windows/964e572c-5ffc-4a77-964a-a199aee8d384.meta\n",
            "     3276 應用程式/Power Automate Desktop For Windows/b85bd473-3535-446f-b1a9-ed6c28d99873\n",
            "      176 應用程式/Power Automate Desktop For Windows/b85bd473-3535-446f-b1a9-ed6c28d99873.meta\n",
            " 15891712 應用程式/Power Automate Desktop For Windows/b8c2d430-a741-491e-ba93-1a41ca70820f\n",
            "      192 應用程式/Power Automate Desktop For Windows/b8c2d430-a741-491e-ba93-1a41ca70820f.meta\n",
            "   116647 租補/寶寶/存摺.jpg\n",
            "   543229 租補/寶寶/正面.jpg\n",
            "   556277 租補/寶寶/背面.jpg\n",
            "2025/07/24 13:29:51 NOTICE: Failed to ls with 2 errors: last error was: couldn't list files: invalidRequest: invalidResourceId: ObjectHandle is Invalid\n"
          ]
        }
      ]
    },
    {
      "cell_type": "code",
      "source": [
        "!rclone copy weather.csv onedrive:colab/"
      ],
      "metadata": {
        "id": "17dkyWDXndHO"
      },
      "execution_count": 17,
      "outputs": []
    },
    {
      "cell_type": "code",
      "source": [
        "!rclone ls onedrive:colab/"
      ],
      "metadata": {
        "colab": {
          "base_uri": "https://localhost:8080/"
        },
        "id": "8qvh3OJjoIfu",
        "outputId": "d9cebcba-a1ad-4d80-c446-81a548417795"
      },
      "execution_count": 18,
      "outputs": [
        {
          "output_type": "stream",
          "name": "stdout",
          "text": [
            "      376 weather.csv\n"
          ]
        }
      ]
    }
  ]
}